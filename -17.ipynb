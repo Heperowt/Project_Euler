{
 "cells": [
  {
   "cell_type": "code",
   "execution_count": 3,
   "metadata": {},
   "outputs": [
    {
     "name": "stdout",
     "output_type": "stream",
     "text": [
      "21124\n"
     ]
    }
   ],
   "source": [
    "wordDict1 = {\"twenty\":0,\"thirty\":0,\"forty\":0,\"fifty\":0,\"sixty\":0,\"seventy\":0,\"eighty\":0,\"ninety\":0}\n",
    "wordDict2 = {\"one\":0,\"two\":0,\"three\":0,\"four\":0,\"five\":0,\"six\":0,\"seven\":0,\"eight\":0,\"nine\":0}\n",
    "wordDict3={\"ten\":0,\"eleven\":0,\"twelve\":0,\"thirteen\":0,\"fourteen\":0,\"fifteen\":0,\"sixteen\":0,\"seventeen\":0,\"eighteen\":0,\"nineteen\":0}\n",
    "\n",
    "#for 1 to 9:\n",
    "for i in wordDict2.keys() :\n",
    "    wordDict2[i] += 1\n",
    "\n",
    "#for 10 to 19:\n",
    "for i in wordDict3.keys():\n",
    "    wordDict3[i] += 1\n",
    "\n",
    "#for 20 to 99:\n",
    "for i in wordDict1.keys():\n",
    "    wordDict1[i] += 10\n",
    "\n",
    "for i in wordDict2.keys():\n",
    "    wordDict2[i] += 8\n",
    "\n",
    "#for 100 to 999:\n",
    "totalAnd = 999-100+1-9\n",
    "totalHundred = 999-100+1\n",
    "for i in wordDict2.keys():\n",
    "    wordDict2[i] += 9*9 +100\n",
    "\n",
    "for i in wordDict3.keys():\n",
    "    wordDict3[i] += 9\n",
    "\n",
    "for i in wordDict1.keys():\n",
    "    wordDict1[i] += 9*10\n",
    "#-------------------------\n",
    "sum1=0\n",
    "for i in wordDict1.keys():\n",
    "    sum1+=len(i)*wordDict1[i]\n",
    "\n",
    "sum2=0\n",
    "for i in wordDict2.keys():\n",
    "    sum2+=len(i)*wordDict2[i]\n",
    "\n",
    "sum3=0\n",
    "for i in wordDict3.keys():\n",
    "    sum3+=len(i)*wordDict3[i]\n",
    "\n",
    "\n",
    "onethousand_len = 11\n",
    "hundreds_len = totalHundred*len(\"hundred\")\n",
    "ands_len = totalAnd*len(\"And\")\n",
    "print(sum1+sum2+sum3+onethousand_len+hundreds_len+ands_len)\n"
   ]
  },
  {
   "cell_type": "code",
   "execution_count": 4,
   "metadata": {},
   "outputs": [
    {
     "name": "stdout",
     "output_type": "stream",
     "text": [
      "10\n"
     ]
    }
   ],
   "source": [
    "d={\"al\":5,\"b\":0}\n",
    "sum=0\n",
    "for i in d.keys():\n",
    "    sum += len(i)*d[i]\n",
    "print(sum)"
   ]
  }
 ],
 "metadata": {
  "kernelspec": {
   "display_name": "Python 3",
   "language": "python",
   "name": "python3"
  },
  "language_info": {
   "codemirror_mode": {
    "name": "ipython",
    "version": 3
   },
   "file_extension": ".py",
   "mimetype": "text/x-python",
   "name": "python",
   "nbconvert_exporter": "python",
   "pygments_lexer": "ipython3",
   "version": "3.12.6"
  }
 },
 "nbformat": 4,
 "nbformat_minor": 2
}
