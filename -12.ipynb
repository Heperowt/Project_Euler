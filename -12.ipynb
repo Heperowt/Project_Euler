{
 "cells": [
  {
   "cell_type": "code",
   "execution_count": 6,
   "metadata": {},
   "outputs": [
    {
     "name": "stdout",
     "output_type": "stream",
     "text": [
      "76576500\n"
     ]
    }
   ],
   "source": [
    "import math\n",
    "def triangleNumber(x):\n",
    "    return x*(x+1)//2\n",
    "\n",
    "def findDivisors(x):\n",
    "    divisionList = set()\n",
    "    for i in range(1, int(math.sqrt(x)) + 1):\n",
    "        if x % i == 0:\n",
    "            divisionList.add(i)       # Add the divisor\n",
    "            divisionList.add(x // i)  # Add the paired divisor\n",
    "    return divisionList\n",
    "\n",
    "#def findDivisors(x):\n",
    "    #divisionList = list()\n",
    "    #for i in range(1,x+1) :\n",
    "        #if x%i == 0 :\n",
    "            #divisionList.append(i)\n",
    "    #return divisionList\n",
    "\n",
    "\n",
    "x=11\n",
    "NotFound = True\n",
    "while NotFound :\n",
    "    num = triangleNumber(x)\n",
    "    divisors = findDivisors(num)\n",
    "    if len(divisors) >= 500 :\n",
    "        Solution = num\n",
    "        NotFound = False\n",
    "    x += 1\n",
    "\n",
    "print(Solution)\n"
   ]
  }
 ],
 "metadata": {
  "kernelspec": {
   "display_name": "Python 3",
   "language": "python",
   "name": "python3"
  },
  "language_info": {
   "codemirror_mode": {
    "name": "ipython",
    "version": 3
   },
   "file_extension": ".py",
   "mimetype": "text/x-python",
   "name": "python",
   "nbconvert_exporter": "python",
   "pygments_lexer": "ipython3",
   "version": "3.12.6"
  }
 },
 "nbformat": 4,
 "nbformat_minor": 2
}
