{
 "cells": [
  {
   "cell_type": "code",
   "execution_count": 6,
   "metadata": {},
   "outputs": [
    {
     "name": "stdout",
     "output_type": "stream",
     "text": [
      "232792560\n"
     ]
    }
   ],
   "source": [
    "pdict = {2:0 , 3:0 , 5:0 , 7:0}\n",
    "for num in range(1,21):\n",
    "    inner_dict = {2:0 , 3:0 , 5:0 , 7:0}\n",
    "\n",
    "    for i in pdict.keys():\n",
    "        while num % i == 0 :\n",
    "            num /= i\n",
    "            inner_dict[i] += 1\n",
    "\n",
    "    for i in pdict.keys():\n",
    "        if inner_dict[i] > pdict[i] :\n",
    "            pdict[i] = inner_dict[i]\n",
    "print(2**pdict[2] * 3**pdict[3] * 5**pdict[5] * 7**pdict[7] * 11 * 13 * 17 * 19)\n",
    "\n",
    "    \n"
   ]
  },
  {
   "cell_type": "code",
   "execution_count": 2,
   "metadata": {},
   "outputs": [
    {
     "name": "stdout",
     "output_type": "stream",
     "text": [
      "2\n",
      "3\n",
      "5\n",
      "7\n"
     ]
    }
   ],
   "source": [
    "pdict = {2:0 , 3:0 , 5:0 , 7:0}\n",
    "for i in pdict.keys():\n",
    "    print(i)"
   ]
  }
 ],
 "metadata": {
  "kernelspec": {
   "display_name": "Python 3",
   "language": "python",
   "name": "python3"
  },
  "language_info": {
   "codemirror_mode": {
    "name": "ipython",
    "version": 3
   },
   "file_extension": ".py",
   "mimetype": "text/x-python",
   "name": "python",
   "nbconvert_exporter": "python",
   "pygments_lexer": "ipython3",
   "version": "3.12.6"
  }
 },
 "nbformat": 4,
 "nbformat_minor": 2
}
