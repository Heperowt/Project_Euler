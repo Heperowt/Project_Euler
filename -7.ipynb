{
 "cells": [
  {
   "cell_type": "code",
   "execution_count": 15,
   "metadata": {},
   "outputs": [
    {
     "data": {
      "text/plain": [
       "103787"
      ]
     },
     "execution_count": 15,
     "metadata": {},
     "output_type": "execute_result"
    }
   ],
   "source": [
    "def prime(i):\n",
    "    plist = list()\n",
    "    num = 2\n",
    "    while len(plist) != i :\n",
    "        prime = True\n",
    "        for j in range(2 , int(num**0.5)):\n",
    "            if num % j == 0 :\n",
    "                prime = False\n",
    "                break\n",
    "        if prime :\n",
    "            plist.append(num)\n",
    "        num+=1\n",
    "\n",
    "    return plist\n",
    "\n",
    "prime(10001)[-1]\n",
    "            "
   ]
  }
 ],
 "metadata": {
  "kernelspec": {
   "display_name": "Python 3",
   "language": "python",
   "name": "python3"
  },
  "language_info": {
   "codemirror_mode": {
    "name": "ipython",
    "version": 3
   },
   "file_extension": ".py",
   "mimetype": "text/x-python",
   "name": "python",
   "nbconvert_exporter": "python",
   "pygments_lexer": "ipython3",
   "version": "3.12.6"
  }
 },
 "nbformat": 4,
 "nbformat_minor": 2
}
