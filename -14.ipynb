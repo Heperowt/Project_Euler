{
 "cells": [
  {
   "cell_type": "code",
   "execution_count": 27,
   "metadata": {},
   "outputs": [
    {
     "name": "stdout",
     "output_type": "stream",
     "text": [
      "837799\n"
     ]
    }
   ],
   "source": [
    "maxlist = list()\n",
    "for num in range(1,1000000):\n",
    "    counter = 0\n",
    "    while num > 1 :\n",
    "        if num % 2 == 0:\n",
    "            num //= 2\n",
    "        elif num % 2 == 1:\n",
    "            num = 3*num + 1\n",
    "        counter += 1\n",
    "    maxlist.append(counter)\n",
    "print(maxlist.index(max(maxlist))+1)"
   ]
  }
 ],
 "metadata": {
  "kernelspec": {
   "display_name": "Python 3",
   "language": "python",
   "name": "python3"
  },
  "language_info": {
   "codemirror_mode": {
    "name": "ipython",
    "version": 3
   },
   "file_extension": ".py",
   "mimetype": "text/x-python",
   "name": "python",
   "nbconvert_exporter": "python",
   "pygments_lexer": "ipython3",
   "version": "3.12.6"
  }
 },
 "nbformat": 4,
 "nbformat_minor": 2
}
